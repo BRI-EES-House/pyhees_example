{
 "cells": [
  {
   "attachments": {},
   "cell_type": "markdown",
   "metadata": {},
   "source": [
    "# 第二章　単位住戸の一次エネルギー消費量 / Chapter 2 Designed Primary Energy Consumption"
   ]
  },
  {
   "cell_type": "code",
   "execution_count": 1,
   "metadata": {},
   "outputs": [],
   "source": [
    "import numpy as np"
   ]
  },
  {
   "attachments": {},
   "cell_type": "markdown",
   "metadata": {},
   "source": [
    "# 試算例"
   ]
  },
  {
   "attachments": {},
   "cell_type": "markdown",
   "metadata": {},
   "source": [
    "### 初期条件"
   ]
  },
  {
   "cell_type": "code",
   "execution_count": 2,
   "metadata": {},
   "outputs": [],
   "source": [
    "def get_default_house():\n",
    "    \n",
    "    house = {\n",
    "        # 基本情報\n",
    "        'type': '一般住宅',\n",
    "        'evaluation_method': \"住戸全体を対象に評価する\",\n",
    "        'tatekata': '戸建住宅',\n",
    "        'A_A': 120.08,\n",
    "        'A_MR': 29.81,\n",
    "        'A_OR': 51.34,\n",
    "        'region': 6,\n",
    "        'sol_region': None,\n",
    "        'reference': {'result_type': '建築物エネルギー消費性能基準（H28 年 4 月以降）', 'reference_year': 'H28'},\n",
    "\n",
    "        # 外皮\n",
    "        'ENV': {\"A_env\": 307.51, \"U_A\": 0.87, \"eta_A_H\": 4.3, \"eta_A_C\": 2.8,\n",
    "                'method': '当該住宅の外皮面積の合計を用いて評価する'},\n",
    "        \"NV_MR\": 0, \"NV_OR\": 0,\n",
    "\n",
    "        'r_A_ufvnt': None,\n",
    "        'HEX': None,\n",
    "        'underfloor_insulation': None,\n",
    "        'TS': None,\n",
    "\n",
    "        # 暖房\n",
    "        'mode_H': '居室のみを暖房する方式でかつ主たる居室とその他の居室ともに温水暖房を設置する場合に該当しない場合',\n",
    "        'H_MR': {'type': 'ルームエアコンディショナー', 'e_class': 'は', 'dualcompressor': False},\n",
    "        'H_OR': {'type': 'ルームエアコンディショナー', 'e_class': 'は', 'dualcompressor': False},\n",
    "        'H_A': None,\n",
    "        'H_HS': None,\n",
    "\n",
    "        # 冷房\n",
    "        'mode_C': '居室のみを冷房する方式',\n",
    "        'C_A': None,\n",
    "        'C_MR': {\"type\": \"ルームエアコンディショナー\", 'e_class': 'は', 'dualcompressor': False},\n",
    "        'C_OR': {'type': 'ルームエアコンディショナー', 'e_class': 'は', 'dualcompressor': False},\n",
    "\n",
    "        # 換気\n",
    "        'V': {'type': 'ダクト式第二種換気設備又はダクト式第三種換気設備',\n",
    "              'input': '比消費電力', 'f_SFP': 0.40, 'N': 0.5},\n",
    "\n",
    "        # 熱交換\n",
    "        'HEX': None,\n",
    "\n",
    "        # 給湯\n",
    "        'HW': {'hw_type': 'ガス従来型給湯機', 'e_rtd': 0.704, 'e_dash_rtd': None, 'hybrid_category': None,\n",
    "               'bath_function': 'ふろ給湯機(追焚あり)', 'has_bath': True, 'pipe_diameter': '上記以外',\n",
    "               'kitchen_watersaving_A': False, 'kitchen_watersaving_C': False,  'shower_watersaving_A': False,\n",
    "               'shower_watersaving_B': False, 'washbowl_watersaving_C': False, 'bath_insulation': False},\n",
    "        \n",
    "        # 照明\n",
    "        'L': {'MR_installed': '設置しない', 'MR_power': None, 'MR_multi': None, 'MR_dimming': None,\n",
    "              'has_OR': True, 'OR_installed': '設置しない', 'OR_power': None, 'OR_dimming': None,\n",
    "              'has_NO': True, 'NO_installed': '設置しない', 'NO_power': None, 'NO_sensor': None,\n",
    "              },\n",
    "\n",
    "        # PV\n",
    "        'PV': None,\n",
    "\n",
    "        # 太陽熱\n",
    "        'SHC': None,\n",
    "\n",
    "        # コージェネ\n",
    "        'CG': None\n",
    "\n",
    "    }\n",
    "\n",
    "    return house"
   ]
  },
  {
   "attachments": {},
   "cell_type": "markdown",
   "metadata": {},
   "source": [
    "### 計算"
   ]
  },
  {
   "cell_type": "code",
   "execution_count": 3,
   "metadata": {},
   "outputs": [],
   "source": [
    "def calc_results(house):\n",
    "    \n",
    "    if __name__ == '__main__':\n",
    "\n",
    "        from pyhees.section2_2 import calc_E_T \n",
    "        from pyhees.section2_3 import calc_E_ST\n",
    "        from pyhees.section2_4 import calc_BEI\n",
    "        \n",
    "        house['ENV']['A_A'] = house['A_A']\n",
    "        if house['HEX'] is not None:\n",
    "            house['HEX']['e'] = house['V']['v_e']\n",
    "        \n",
    "        # 度をラジアンに変換\n",
    "        if house['SHC'] is not None:\n",
    "            house['SHC']['P_alpha_sp'] = np.radians(house['SHC']['P_alpha_sp']) if house['SHC']['type'] == '液体集熱式' else None\n",
    "            house['SHC']['P_beta_sp'] = np.radians(house['SHC']['P_beta_sp']) if house['SHC']['type'] == '液体集熱式' else None\n",
    "            house['SHC']['P_alpha'] = np.radians(house['SHC']['P_alpha']) if house['SHC']['type'] == '空気集熱式' else None\n",
    "            house['SHC']['P_beta'] = tuple(np.radians(house['SHC']['P_beta'])) if house['SHC']['type'] == '空気集熱式' else None\n",
    "\n",
    "        E_T_dict, E_dash_T_dict, E_pri_dict, E_sec_dict, E_S_dict, env_dict = calc_E_T(house)\n",
    "        E_ST_dict, E_dash_ST_dict, E_std_detail = calc_E_ST(house)\n",
    "        BEI = calc_BEI(E_dash_T_dict, E_dash_ST_dict)\n",
    "        \n",
    "        # 建築物エネルギー消費性能基準（気候風土適応住宅を除く）の端数処理前の設計値\n",
    "        E_star_T_gn_du = E_T_dict['E_star_T_gn_du']\n",
    "        print(f'E_T : {E_star_T_gn_du}MJ/a')\n",
    "        \n",
    "        # 用途別エネルギー消費量（設計値）\n",
    "        for label, value in E_pri_dict.items():\n",
    "            print(f'{label} : {value}MJ/a')\n",
    "\n",
    "        # 二次エネルギー消費量\n",
    "        E_E = E_sec_dict['E_E']\n",
    "        E_G = E_sec_dict['E_G']\n",
    "        E_K = E_sec_dict['E_K']\n",
    "        UPL = E_sec_dict['UPL']\n",
    "        print(f'EL:{E_E}kWh/a, GAS:{E_G}MJ/a, KER:{E_K}L/a, UPL:{UPL}MJ/a')\n",
    "\n",
    "        # 基準値\n",
    "        E_ST_gn_du_p = E_ST_dict['E_ST_gn_du_p']\n",
    "        print(f'E_ST:{E_ST_gn_du_p}GJ/a')\n",
    "\n",
    "        # 用途別エネルギー消費量（基準値）\n",
    "        for label, value in E_std_detail.items():\n",
    "            print(f'{label} : {value}MJ/a')\n",
    "\n",
    "        # BEI\n",
    "        BEI = BEI['BEI_gn_du']\n",
    "        print('BEI:{}'.format(BEI))\n",
    "        \n",
    "        return E_pri_dict"
   ]
  },
  {
   "attachments": {},
   "cell_type": "markdown",
   "metadata": {},
   "source": [
    "### 計算条件1"
   ]
  },
  {
   "attachments": {},
   "cell_type": "markdown",
   "metadata": {},
   "source": [
    "- 初期条件での計算"
   ]
  },
  {
   "cell_type": "code",
   "execution_count": 4,
   "metadata": {
    "scrolled": true
   },
   "outputs": [
    {
     "name": "stdout",
     "output_type": "stream",
     "text": [
      "E_T : 79999.31101915857MJ/a\n",
      "E_H : 13935.00484492587MJ/a\n",
      "E_C : 6035.98637903425MJ/a\n",
      "E_V : 5938.505695424001MJ/a\n",
      "E_L : 5211.890116722587MJ/a\n",
      "E_W : 27637.31547105188MJ/a\n",
      "E_S : 0.0MJ/a\n",
      "E_S_CG : 0.0MJ/a\n",
      "E_R : 0.0MJ/a\n",
      "E_M : 21240.608512MJ/a\n",
      "EL:4983.9kWh/a, GAS:30929.2MJ/a, KER:0.0L/a, UPL:427.1MJ/a\n",
      "E_ST:80.7GJ/a\n",
      "E_SH : 13383.39340085772MJ/a\n",
      "E_SC : 5633.946963393086MJ/a\n",
      "E_SV : 4541.639999999999MJ/a\n",
      "E_SL : 10762.63MJ/a\n",
      "E_SW : 25091MJ/a\n",
      "E_SM : 21240.53MJ/a\n",
      "BEI:0.99\n"
     ]
    }
   ],
   "source": [
    "house = get_default_house()\n",
    "res_01 = calc_results(house)"
   ]
  },
  {
   "attachments": {},
   "cell_type": "markdown",
   "metadata": {},
   "source": [
    "### 計算条件2"
   ]
  },
  {
   "attachments": {},
   "cell_type": "markdown",
   "metadata": {},
   "source": [
    "- 8地域に変更"
   ]
  },
  {
   "cell_type": "code",
   "execution_count": 5,
   "metadata": {
    "scrolled": true
   },
   "outputs": [
    {
     "name": "stdout",
     "output_type": "stream",
     "text": [
      "E_T : 65498.73170878374MJ/a\n",
      "E_H : 0.0MJ/a\n",
      "E_C : 13377.18784714648MJ/a\n",
      "E_V : 5938.505695424001MJ/a\n",
      "E_L : 5211.890116722587MJ/a\n",
      "E_W : 19730.539537490677MJ/a\n",
      "E_S : 0.0MJ/a\n",
      "E_S_CG : 0.0MJ/a\n",
      "E_R : 0.0MJ/a\n",
      "E_M : 21240.608512MJ/a\n",
      "EL:4349.0kWh/a, GAS:23052.2MJ/a, KER:0.0L/a, UPL:0.0MJ/a\n",
      "E_ST:68.9GJ/a\n",
      "E_SH : 0.0MJ/a\n",
      "E_SC : 14424.877270735367MJ/a\n",
      "E_SV : 4541.639999999999MJ/a\n",
      "E_SL : 10762.63MJ/a\n",
      "E_SW : 17922MJ/a\n",
      "E_SM : 21240.53MJ/a\n",
      "BEI:0.93\n"
     ]
    }
   ],
   "source": [
    "house = get_default_house()\n",
    "house['region'] = 8\n",
    "house['mode_H'] = None\n",
    "house['H_MR'] = None\n",
    "house['H_OR'] = None\n",
    "\n",
    "res_02 = calc_results(house)"
   ]
  },
  {
   "attachments": {},
   "cell_type": "markdown",
   "metadata": {},
   "source": [
    "### 計算条件3"
   ]
  },
  {
   "attachments": {},
   "cell_type": "markdown",
   "metadata": {},
   "source": [
    "- 暖房をダクト式セントラル空調に変更"
   ]
  },
  {
   "cell_type": "code",
   "execution_count": 6,
   "metadata": {
    "scrolled": true
   },
   "outputs": [
    {
     "name": "stdout",
     "output_type": "stream",
     "text": [
      "E_T : 111360.10584012957MJ/a\n",
      "E_H : 36558.649546681496MJ/a\n",
      "E_C : 14773.136498249625MJ/a\n",
      "E_V : 5938.505695424001MJ/a\n",
      "E_L : 5211.890116722587MJ/a\n",
      "E_W : 27637.31547105188MJ/a\n",
      "E_S : 0.0MJ/a\n",
      "E_S_CG : 0.0MJ/a\n",
      "E_R : 0.0MJ/a\n",
      "E_M : 21240.608512MJ/a\n",
      "EL:7597.4kWh/a, GAS:30929.2MJ/a, KER:0.0L/a, UPL:2542.5MJ/a\n",
      "E_ST:113.0GJ/a\n",
      "E_SH : 36558.649546681496MJ/a\n",
      "E_SC : 14773.136498249625MJ/a\n",
      "E_SV : 4541.639999999999MJ/a\n",
      "E_SL : 10762.63MJ/a\n",
      "E_SW : 25091MJ/a\n",
      "E_SM : 21240.53MJ/a\n",
      "BEI:0.99\n"
     ]
    }
   ],
   "source": [
    "house = get_default_house()\n",
    "house['mode_H'] = '住戸全体を連続的に暖房する方式'\n",
    "house['H_A'] = {'type': 'ダクト式セントラル空調機', 'duct_insulation': '全てもしくは一部が断熱区画外である',\n",
    "                'VAV': False, 'general_ventilation': True, 'EquipmentSpec': '入力しない'}\n",
    "house['mode_C'] = '住戸全体を連続的に冷房する方式'\n",
    "house['C_A'] = {'type': 'ダクト式セントラル空調機', 'duct_insulation': '全てもしくは一部が断熱区画外である',\n",
    "                 'VAV': False, 'general_ventilation': True, 'EquipmentSpec': '入力しない'}\n",
    "\n",
    "res_03 = calc_results(house)"
   ]
  },
  {
   "attachments": {},
   "cell_type": "markdown",
   "metadata": {},
   "source": [
    "### 計算条件4"
   ]
  },
  {
   "attachments": {},
   "cell_type": "markdown",
   "metadata": {},
   "source": [
    "- 暖房の主居室のルームエアコンの効率を（い）、小能力時高効率型コンプレッサーを評価する\n",
    "- 暖房のその他居室のルームエアコンの効率を（ろ）、小能力時高効率型コンプレッサーを評価する\n",
    "- 冷房の主居室のルームエアコンの効率を（ろ）、小能力時高効率型コンプレッサーを評価する\n",
    "- 冷房のその他居室のルームエアコンの効率を（い）、小能力時高効率型コンプレッサーを評価する"
   ]
  },
  {
   "cell_type": "code",
   "execution_count": 7,
   "metadata": {
    "scrolled": true
   },
   "outputs": [
    {
     "name": "stdout",
     "output_type": "stream",
     "text": [
      "E_T : 76871.97328463636MJ/a\n",
      "E_H : 11543.017674938972MJ/a\n",
      "E_C : 5300.635814498925MJ/a\n",
      "E_V : 5938.505695424001MJ/a\n",
      "E_L : 5211.890116722587MJ/a\n",
      "E_W : 27637.31547105188MJ/a\n",
      "E_S : 0.0MJ/a\n",
      "E_S_CG : 0.0MJ/a\n",
      "E_R : 0.0MJ/a\n",
      "E_M : 21240.608512MJ/a\n",
      "EL:4663.5kWh/a, GAS:30929.2MJ/a, KER:0.0L/a, UPL:427.1MJ/a\n",
      "E_ST:80.7GJ/a\n",
      "E_SH : 13383.39340085772MJ/a\n",
      "E_SC : 5633.946963393086MJ/a\n",
      "E_SV : 4541.639999999999MJ/a\n",
      "E_SL : 10762.63MJ/a\n",
      "E_SW : 25091MJ/a\n",
      "E_SM : 21240.53MJ/a\n",
      "BEI:0.94\n"
     ]
    }
   ],
   "source": [
    "house = get_default_house()\n",
    "house['H_MR'] = {'type': 'ルームエアコンディショナー', 'e_class': 'い', 'dualcompressor': True}\n",
    "house['H_OR'] = {'type': 'ルームエアコンディショナー', 'e_class': 'ろ', 'dualcompressor': True}\n",
    "house['C_MR'] = {\"type\": \"ルームエアコンディショナー\", 'e_class': 'ろ', 'dualcompressor': True}\n",
    "house['C_OR'] = {'type': 'ルームエアコンディショナー', 'e_class': 'い', 'dualcompressor': True}\n",
    "res_04 = calc_results(house)"
   ]
  },
  {
   "attachments": {},
   "cell_type": "markdown",
   "metadata": {},
   "source": [
    "### 計算条件5"
   ]
  },
  {
   "attachments": {},
   "cell_type": "markdown",
   "metadata": {},
   "source": [
    "- 床面積の合計90m2、主たる居室25m2、その他居室45m2、外皮面積250m2に変更"
   ]
  },
  {
   "cell_type": "code",
   "execution_count": 8,
   "metadata": {
    "scrolled": true
   },
   "outputs": [
    {
     "name": "stdout",
     "output_type": "stream",
     "text": [
      "E_T : 71539.348109509MJ/a\n",
      "E_H : 13878.503253254547MJ/a\n",
      "E_C : 5336.061933611472MJ/a\n",
      "E_V : 4451.4078512000015MJ/a\n",
      "E_L : 3525.6164580858913MJ/a\n",
      "E_W : 24536.403413357082MJ/a\n",
      "E_S : 0.0MJ/a\n",
      "E_S_CG : 0.0MJ/a\n",
      "E_R : 0.0MJ/a\n",
      "E_M : 19811.3552MJ/a\n",
      "EL:4495.6kWh/a, GAS:27297.0MJ/a, KER:0.0L/a, UPL:364.8MJ/a\n",
      "E_ST:72.4GJ/a\n",
      "E_SH : 13308.925461912459MJ/a\n",
      "E_SC : 4982.6633223378485MJ/a\n",
      "E_SV : 3399MJ/a\n",
      "E_SL : 8575MJ/a\n",
      "E_SW : 22301MJ/a\n",
      "E_SM : 19811.33MJ/a\n",
      "BEI:0.99\n"
     ]
    }
   ],
   "source": [
    "house = get_default_house()\n",
    "house[\"A_A\"] = 90\n",
    "house[\"A_MR\"] = 25\n",
    "house[\"A_OR\"] = 40\n",
    "house['ENV'][\"A_env\"] = 250\n",
    "res_05 = calc_results(house)"
   ]
  },
  {
   "attachments": {},
   "cell_type": "markdown",
   "metadata": {},
   "source": [
    "### 計算条件6"
   ]
  },
  {
   "attachments": {},
   "cell_type": "markdown",
   "metadata": {},
   "source": [
    "- 熱交換型換気設備の導入  \n",
    "    - 換気設備を壁付け式第一種換気設備に変更\n",
    "    - 有効換気量率v_eを0.95に変更\n",
    "    - 比消費電力を0.25W/(m3/h)に変更\n",
    "    - 温度交換効率etr_t_rawを0.90、給気と排気の比率による温度交換効率の補正係数C_balを0.88、排気過多時における住宅外皮経由の漏気による温度交換効率の補正係数C_leakを0.93に変更"
   ]
  },
  {
   "cell_type": "code",
   "execution_count": 9,
   "metadata": {
    "scrolled": true
   },
   "outputs": [
    {
     "name": "stdout",
     "output_type": "stream",
     "text": [
      "E_T : 76288.14097669598MJ/a\n",
      "E_H : 12078.298265887268MJ/a\n",
      "E_C : 6035.98637903425MJ/a\n",
      "E_V : 4084.0422320000007MJ/a\n",
      "E_L : 5211.890116722587MJ/a\n",
      "E_W : 27637.31547105188MJ/a\n",
      "E_S : 0.0MJ/a\n",
      "E_S_CG : 0.0MJ/a\n",
      "E_R : 0.0MJ/a\n",
      "E_M : 21240.608512MJ/a\n",
      "EL:4623.8kWh/a, GAS:30929.2MJ/a, KER:0.0L/a, UPL:231.2MJ/a\n",
      "E_ST:80.7GJ/a\n",
      "E_SH : 13383.39340085772MJ/a\n",
      "E_SC : 5633.946963393086MJ/a\n",
      "E_SV : 4541.639999999999MJ/a\n",
      "E_SL : 10762.63MJ/a\n",
      "E_SW : 25091MJ/a\n",
      "E_SM : 21240.53MJ/a\n",
      "BEI:0.93\n"
     ]
    }
   ],
   "source": [
    "house = get_default_house()\n",
    "house['V']['type'] = '壁付け式第一種換気設備'\n",
    "house['V']['v_e'] = 0.95\n",
    "house['V']['f_SFP'] = 0.25\n",
    "house['HEX'] = {'etr_t': 0.90, 'C_bal': 0.88, 'C_leak': 0.93}\n",
    "res_06 = calc_results(house)"
   ]
  },
  {
   "attachments": {},
   "cell_type": "markdown",
   "metadata": {},
   "source": [
    "### 計算条件7"
   ]
  },
  {
   "attachments": {},
   "cell_type": "markdown",
   "metadata": {},
   "source": [
    "- 主たる居室、その他居室にパネルラジエーターを採用\n",
    "- 熱源機を電気ヒートポンプ・ガス瞬間式併用型給湯温水暖房機(給湯熱源：電気ヒートポンプ・ガス瞬間式併用、暖房熱源：電気ヒートポンプ・ガス瞬間式併用)（区分1）に変更"
   ]
  },
  {
   "cell_type": "code",
   "execution_count": 10,
   "metadata": {
    "scrolled": true
   },
   "outputs": [
    {
     "name": "stdout",
     "output_type": "stream",
     "text": [
      "E_T : 85319.54487728035MJ/a\n",
      "E_H : 1.1540542166953869MJ/a\n",
      "E_C : 6035.98637903425MJ/a\n",
      "E_V : 5938.505695424001MJ/a\n",
      "E_L : 5211.890116722587MJ/a\n",
      "E_W : 46891.40011988282MJ/a\n",
      "E_S : 0.0MJ/a\n",
      "E_S_CG : 0.0MJ/a\n",
      "E_R : 0.0MJ/a\n",
      "E_M : 21240.608512MJ/a\n",
      "EL:6410.6kWh/a, GAS:22751.2MJ/a, KER:0.0L/a, UPL:1.2MJ/a\n",
      "E_ST:107.2GJ/a\n",
      "E_SH : 39895.15865164422MJ/a\n",
      "E_SC : 5633.946963393086MJ/a\n",
      "E_SV : 4541.639999999999MJ/a\n",
      "E_SL : 10762.63MJ/a\n",
      "E_SW : 25091MJ/a\n",
      "E_SM : 21240.53MJ/a\n",
      "BEI:0.75\n"
     ]
    }
   ],
   "source": [
    "house = get_default_house()\n",
    "house['H_MR'] = {'type': '温水暖房用パネルラジエーター'}\n",
    "house['H_OR'] = {'type': '温水暖房用パネルラジエーター'}\n",
    "house['H_HS'] = {'type': '電気ヒートポンプ・ガス瞬間式併用型給湯温水暖房機(給湯熱源：電気ヒートポンプ・ガス瞬間式併用、暖房熱源：電気ヒートポンプ・ガス瞬間式併用)', 'pipe_insulation': False, 'underfloor_pipe_insulation': False}\n",
    "house['HW']['hw_type'] = '電気ヒートポンプ・ガス瞬間式併用型給湯温水暖房機(給湯熱源：電気ヒートポンプ・ガス瞬間式併用、暖房熱源：電気ヒートポンプ・ガス瞬間式併用)'\n",
    "house['HW']['hybrid_category'] = '区分1'\n",
    "res_07 = calc_results(house)"
   ]
  },
  {
   "attachments": {},
   "cell_type": "markdown",
   "metadata": {},
   "source": [
    "### 計算条件8"
   ]
  },
  {
   "attachments": {},
   "cell_type": "markdown",
   "metadata": {},
   "source": [
    "- 液体集熱式の太陽熱温水器を導入"
   ]
  },
  {
   "cell_type": "code",
   "execution_count": 11,
   "metadata": {
    "scrolled": true
   },
   "outputs": [
    {
     "name": "stdout",
     "output_type": "stream",
     "text": [
      "E_T : 75105.6198276084MJ/a\n",
      "E_H : 13935.00484492587MJ/a\n",
      "E_C : 6035.98637903425MJ/a\n",
      "E_V : 5938.505695424001MJ/a\n",
      "E_L : 5211.890116722587MJ/a\n",
      "E_W : 22743.624279501695MJ/a\n",
      "E_S : 0.0MJ/a\n",
      "E_S_CG : 0.0MJ/a\n",
      "E_R : 0.0MJ/a\n",
      "E_M : 21240.608512MJ/a\n",
      "EL:4983.9kWh/a, GAS:26035.5MJ/a, KER:0.0L/a, UPL:427.1MJ/a\n",
      "E_ST:80.7GJ/a\n",
      "E_SH : 13383.39340085772MJ/a\n",
      "E_SC : 5633.946963393086MJ/a\n",
      "E_SV : 4541.639999999999MJ/a\n",
      "E_SL : 10762.63MJ/a\n",
      "E_SW : 25091MJ/a\n",
      "E_SM : 21240.53MJ/a\n",
      "BEI:0.91\n"
     ]
    }
   ],
   "source": [
    "house = get_default_house()\n",
    "house['sol_region'] = 3\n",
    "house['SHC'] = {'type' : '液体集熱式', 'ls_type': '密閉形太陽熱温水器（直圧式）', 'hw_connection_type': \"接続ユニット方式\",\n",
    "        'solar_water_tap': None, 'A_stcp': 6, 'P_alpha_sp': 0, 'P_beta_sp': 30, 'V_tank': 100,\n",
    "        'b0': 0.73, 'b1': 7.65, 'g_htm': 0.164, 'UA_hx': 220, 'eta_r_tank': 75.0, 'UA_tank': 5.81,\n",
    "        'c_p_htm': 4.186,\n",
    "        'Gs_htm': None,\n",
    "        'UA_stp': None,\n",
    "        'P_pump_hc': 0,\n",
    "        'P_pump_non_hc': 0\n",
    "        }\n",
    "\n",
    "res_08 = calc_results(house)"
   ]
  },
  {
   "attachments": {},
   "cell_type": "markdown",
   "metadata": {},
   "source": [
    "### 計算条件9"
   ]
  },
  {
   "attachments": {},
   "cell_type": "markdown",
   "metadata": {},
   "source": [
    "- 空気集熱式の太陽熱温水器"
   ]
  },
  {
   "cell_type": "code",
   "execution_count": 12,
   "metadata": {},
   "outputs": [
    {
     "name": "stdout",
     "output_type": "stream",
     "text": [
      "E_T : 80033.80035361301MJ/a\n",
      "E_H : 13969.494179380305MJ/a\n",
      "E_C : 6035.98637903425MJ/a\n",
      "E_V : 5938.505695424001MJ/a\n",
      "E_L : 5211.890116722587MJ/a\n",
      "E_W : 27637.31547105188MJ/a\n",
      "E_S : 0.0MJ/a\n",
      "E_S_CG : 0.0MJ/a\n",
      "E_R : 0.0MJ/a\n",
      "E_M : 21240.608512MJ/a\n",
      "EL:4987.5kWh/a, GAS:30929.2MJ/a, KER:0.0L/a, UPL:427.1MJ/a\n",
      "E_ST:80.7GJ/a\n",
      "E_SH : 13383.39340085772MJ/a\n",
      "E_SC : 5633.946963393086MJ/a\n",
      "E_SV : 4541.639999999999MJ/a\n",
      "E_SL : 10762.63MJ/a\n",
      "E_SW : 25091MJ/a\n",
      "E_SM : 21240.53MJ/a\n",
      "BEI:0.99\n"
     ]
    }
   ],
   "source": [
    "house = get_default_house()\n",
    "house['sol_region'] = 3\n",
    "house['SHC'] = {'type': '空気集熱式', 'P_alpha': 0, 'fan_sso': False, 'fan_type': 'AC', 'V_fan_P0': 30, \n",
    "                'hotwater_use': False, 'pump_sso': False, 'W_tnk_ass': None, 'supply_target': '居室',\n",
    "                'r_A_ufvnt_ass': None, 'ufv_insulation': None, \n",
    "                # 集熱器群\n",
    "                'A_col': (3,), 'P_beta': (30,), 'd0': (0.1,), 'd1': (2.0,), 'm_fan_test': (0.0107,)\n",
    "                }\n",
    "res_09 = calc_results(house)"
   ]
  },
  {
   "attachments": {},
   "cell_type": "markdown",
   "metadata": {},
   "source": [
    "### 計算条件10"
   ]
  },
  {
   "attachments": {},
   "cell_type": "markdown",
   "metadata": {},
   "source": [
    "- 主たる居室の暖房設備をパネルラジエーターに変更\n",
    "- SOFC1を導入"
   ]
  },
  {
   "cell_type": "code",
   "execution_count": 13,
   "metadata": {
    "scrolled": true
   },
   "outputs": [
    {
     "name": "stdout",
     "output_type": "stream",
     "text": [
      "E_T : 77178.0221857336MJ/a\n",
      "E_H : 3042.364958675187MJ/a\n",
      "E_C : 6035.98637903425MJ/a\n",
      "E_V : 5938.505695424001MJ/a\n",
      "E_L : 5211.890116722587MJ/a\n",
      "E_W : 66610.02598944267MJ/a\n",
      "E_S : 30901.359465565078MJ/a\n",
      "E_S_CG : 30901.359465565078MJ/a\n",
      "E_R : 0.0MJ/a\n",
      "E_M : 21240.608512MJ/a\n",
      "EL:687.4kWh/a, GAS:70462.3MJ/a, KER:0.0L/a, UPL:6.9MJ/a\n",
      "E_ST:90.4GJ/a\n",
      "E_SH : 23055.955892289894MJ/a\n",
      "E_SC : 5633.946963393086MJ/a\n",
      "E_SV : 4541.639999999999MJ/a\n",
      "E_SL : 10762.63MJ/a\n",
      "E_SW : 25091MJ/a\n",
      "E_SM : 21240.53MJ/a\n",
      "BEI:0.82\n"
     ]
    }
   ],
   "source": [
    "house = get_default_house()\n",
    "house['H_MR'] = {'type': '温水暖房用パネルラジエーター'}\n",
    "house['H_HS'] = {'type': 'コージェネレーションを使用する', 'pipe_insulation': False, 'underfloor_pipe_insulation': False}\n",
    "house['HW']['hw_type'] = 'コージェネレーションを使用する'\n",
    "house['CG'] = {'CG_category': 'SOFC1'}\n",
    "res_10 = calc_results(house)"
   ]
  },
  {
   "attachments": {},
   "cell_type": "markdown",
   "metadata": {},
   "source": [
    "### 計算条件11"
   ]
  },
  {
   "attachments": {},
   "cell_type": "markdown",
   "metadata": {},
   "source": [
    "- 主たる居室の暖房設備をパネルラジエーターに変更\n",
    "- コージェネレーション機器の指定（品番を指定する）に変更\n",
    "    - ブランド事業者名:\tパナソニック株式会社アプライアンス社\n",
    "    - 発電ユニット番号:\tFC-70LR1PZ\n",
    "    - 貯湯ユニット品番:\tFC-NULR1PZ\n",
    "    - 補助熱源機品番:\t-\n",
    "    - 成績証明書番号または自己適合宣言書番号: JHIA20-010-040-005-1\n",
    "\n"
   ]
  },
  {
   "cell_type": "code",
   "execution_count": 14,
   "metadata": {
    "scrolled": true
   },
   "outputs": [
    {
     "name": "stdout",
     "output_type": "stream",
     "text": [
      "E_T : 73050.39762038528MJ/a\n",
      "E_H : 3042.364958675187MJ/a\n",
      "E_C : 6035.98637903425MJ/a\n",
      "E_V : 5938.505695424001MJ/a\n",
      "E_L : 5211.890116722587MJ/a\n",
      "E_W : 56202.43934146989MJ/a\n",
      "E_S : 24621.39738294063MJ/a\n",
      "E_S_CG : 24621.39738294063MJ/a\n",
      "E_R : 0.0MJ/a\n",
      "E_M : 21240.608512MJ/a\n",
      "EL:1330.8kWh/a, GAS:60054.7MJ/a, KER:0.0L/a, UPL:6.9MJ/a\n",
      "E_ST:90.4GJ/a\n",
      "E_SH : 23055.955892289894MJ/a\n",
      "E_SC : 5633.946963393086MJ/a\n",
      "E_SV : 4541.639999999999MJ/a\n",
      "E_SL : 10762.63MJ/a\n",
      "E_SW : 25091MJ/a\n",
      "E_SM : 21240.53MJ/a\n",
      "BEI:0.76\n"
     ]
    }
   ],
   "source": [
    "house = get_default_house()\n",
    "house['H_MR'] = {'type': '温水暖房用パネルラジエーター'}\n",
    "house['H_HS'] = {'type': 'コージェネレーションを使用する', 'pipe_insulation': False, 'underfloor_pipe_insulation': False}\n",
    "house['HW']['hw_type'] = 'コージェネレーションを使用する'\n",
    "house['CG'] = {'exhaust': True, \n",
    "               'exhaust_priority': '給湯優先',\n",
    "                'type_BB_HWH': 'G_EJ',  \n",
    "                'r_DHW_gen_PU_d': 0.7842,\n",
    "                'r_HWH_gen_PU_d': 0.0966,\n",
    "                'PU_type': '熱主', \n",
    "                'param_E_E_gen_PU_Evt_d': {'a_PU': 0.0000, 'a_DHW': 0.0870, 'a_HWH': 0.0870, 'b': 22.6283, 'c': 0.9722},  \n",
    "                'param_E_F_PU_HVt_d': {'a_DHW': 1, 'a_HWH': 1}, \n",
    "                'param_r_H_gen_PU_HVt_d': {'a_DHW': 0.00000, 'a_HWH': 0.00000, 'b': 1.09776}, \n",
    "                'param_e_E_PU_d': {'a_PU': 0.000000, 'a_DHW': 0.000111, 'a_HWH': 0.000111, 'b': 0.3024, 'e_E_PU_d_max': 0.3269, 'e_E_PU_d_min': 0.2964}, \n",
    "                'param_e_H_PU_d': {'a_PU': 0.000000, 'a_DHW': -0.000182, 'a_HWH': 0.000000, 'b': 0.5088, 'e_H_PU_d_max': 0.5178, 'e_H_PU_d_min': 0.4892}, \n",
    "                'P_rtd_PU': 700, \n",
    "                'P_TU_aux_DHW': 5.2, \n",
    "                'P_TU_aux_HWH': 106.6, \n",
    "                'reverse': False \n",
    "                }\n",
    "\n",
    "\n",
    "res_11 = calc_results(house)"
   ]
  },
  {
   "cell_type": "markdown",
   "metadata": {},
   "source": [
    "### 計算条件12"
   ]
  },
  {
   "cell_type": "markdown",
   "metadata": {},
   "source": [
    "- 主たる居室及びその他居室の暖房設備をパネルラジエーターに変更\n",
    "- コージェネレーション機器：SOFC1"
   ]
  },
  {
   "cell_type": "code",
   "execution_count": 15,
   "metadata": {},
   "outputs": [
    {
     "name": "stdout",
     "output_type": "stream",
     "text": [
      "E_T : 92389.0525680779MJ/a\n",
      "E_H : 1.1540542166953869MJ/a\n",
      "E_C : 6035.98637903425MJ/a\n",
      "E_V : 5938.505695424001MJ/a\n",
      "E_L : 5211.890116722587MJ/a\n",
      "E_W : 83419.48989353937MJ/a\n",
      "E_S : 29458.582082858993MJ/a\n",
      "E_S_CG : 29458.582082858993MJ/a\n",
      "E_R : 0.0MJ/a\n",
      "E_M : 21240.608512MJ/a\n",
      "EL:524.2kWh/a, GAS:87271.8MJ/a, KER:0.0L/a, UPL:1.2MJ/a\n",
      "E_ST:107.2GJ/a\n",
      "E_SH : 39895.15865164422MJ/a\n",
      "E_SC : 5633.946963393086MJ/a\n",
      "E_SV : 4541.639999999999MJ/a\n",
      "E_SL : 10762.63MJ/a\n",
      "E_SW : 25091MJ/a\n",
      "E_SM : 21240.53MJ/a\n",
      "BEI:0.83\n"
     ]
    }
   ],
   "source": [
    "house = get_default_house()\n",
    "house['H_MR'] = {'type': '温水暖房用パネルラジエーター'}\n",
    "house['H_OR'] = {'type': '温水暖房用パネルラジエーター'}\n",
    "house['H_HS'] = {'type': 'コージェネレーションを使用する', 'pipe_insulation': False, 'underfloor_pipe_insulation': False}\n",
    "house['HW']['hw_type'] = 'コージェネレーションを使用する'\n",
    "house['CG'] = {'CG_category': 'SOFC1'}\n",
    "res_12 = calc_results(house)"
   ]
  },
  {
   "cell_type": "markdown",
   "metadata": {},
   "source": [
    "### 計算条件13"
   ]
  },
  {
   "cell_type": "markdown",
   "metadata": {},
   "source": [
    "- ダクト式セントラル空調を採用\n",
    "- コージェネレーション機器:SOFC2"
   ]
  },
  {
   "cell_type": "code",
   "execution_count": 16,
   "metadata": {},
   "outputs": [
    {
     "name": "stdout",
     "output_type": "stream",
     "text": [
      "E_T : 92366.86191135732MJ/a\n",
      "E_H : 36558.649546681496MJ/a\n",
      "E_C : 14773.136498249625MJ/a\n",
      "E_V : 5938.505695424001MJ/a\n",
      "E_L : 5211.890116722587MJ/a\n",
      "E_W : 50976.99914621522MJ/a\n",
      "E_S : 42332.92760393559MJ/a\n",
      "E_S_CG : 42332.92760393559MJ/a\n",
      "E_R : 0.0MJ/a\n",
      "E_M : 21240.608512MJ/a\n",
      "EL:3202.6kWh/a, GAS:54829.3MJ/a, KER:0.0L/a, UPL:2542.5MJ/a\n",
      "E_ST:113.0GJ/a\n",
      "E_SH : 36558.649546681496MJ/a\n",
      "E_SC : 14773.136498249625MJ/a\n",
      "E_SV : 4541.639999999999MJ/a\n",
      "E_SL : 10762.63MJ/a\n",
      "E_SW : 25091MJ/a\n",
      "E_SM : 21240.53MJ/a\n",
      "BEI:0.78\n"
     ]
    }
   ],
   "source": [
    "house = get_default_house()\n",
    "house['mode_H'] = '住戸全体を連続的に暖房する方式'\n",
    "house['H_MR'] = None\n",
    "house['H_OR'] = None\n",
    "house['H_A'] = {'type': 'ダクト式セントラル空調機', 'duct_insulation': '全てもしくは一部が断熱区画外である', 'VAV': False, \n",
    "                'general_ventilation': True, 'EquipmentSpec': '入力しない'}\n",
    "house['mode_C'] = '住戸全体を連続的に冷房する方式'\n",
    "house['C_MR'] = None\n",
    "house['C_OR'] = None\n",
    "house['C_A'] = {'type': 'ダクト式セントラル空調機', 'duct_insulation': '全てもしくは一部が断熱区画外である', 'VAV': False, \n",
    "                'general_ventilation': True, 'EquipmentSpec': '入力しない'}\n",
    "\n",
    "house['HW']['hw_type'] = 'コージェネレーションを使用する'\n",
    "house['CG'] = {'CG_category': 'SOFC2'}\n",
    "\n",
    "res_13 = calc_results(house)"
   ]
  },
  {
   "attachments": {},
   "cell_type": "markdown",
   "metadata": {},
   "source": [
    "## 設計一次エネルギー消費量の比較"
   ]
  },
  {
   "cell_type": "code",
   "execution_count": null,
   "metadata": {},
   "outputs": [],
   "source": [
    "def draw_graph(df, x_columns,colors,x_range):\n",
    "\n",
    "  import matplotlib.pyplot as plt\n",
    "  import matplotlib.patheffects as pe \n",
    "\n",
    "  left_columns ,right_columns = x_columns\n",
    "  left_colors,right_colors = colors\n",
    "\n",
    "  # 1行2列のグラフを作成\n",
    "  fig,ax = plt.subplots(nrows=1, ncols=2, figsize=(20,5),sharey='row',dpi=150)\n",
    "\n",
    "  # 区分名\n",
    "  axNameArr = list(df.index)\n",
    "\n",
    "  # MJ -> GJに変換\n",
    "  df_GJ = df / 1000\n",
    "\n",
    "  # 左側のグラフ\n",
    "  acc = np.zeros(len(df_GJ))\n",
    "  for colum,color in reversed(list(zip(left_columns ,left_colors))):\n",
    "    s = df_GJ[colum]\n",
    "    ax[0].barh(axNameArr,s,left=acc,color=color,label=colum)\n",
    "    acc+=s\n",
    "\n",
    "  # 右側のグラフ\n",
    "  acc = np.zeros(len(df_GJ))\n",
    "  for colum,color in zip(right_columns,right_colors):\n",
    "    s = df_GJ[colum]\n",
    "    ax[1].barh(axNameArr,s,left=acc,color=color,label=colum)\n",
    "    acc+=s\n",
    "\n",
    "  # 凡例\n",
    "  hans0, labs0 = ax[0].get_legend_handles_labels()\n",
    "  hans1, labs1 = ax[1].get_legend_handles_labels()\n",
    "  ax[0].legend(hans0+hans1, labs0+labs1)\n",
    "  ax[0].set_xlabel('self-consumption[GJ/a]')\n",
    "  ax[1].set_xlabel('demand[GJ/a]')\n",
    "  fig.align_labels() # ラベルの位置を揃える\n",
    "\n",
    "  ax[0].set_xlim(x_range[0],0) # 左側グラフはX軸を反転\n",
    "  ax[1].set_xlim(0,x_range[1])\n",
    "\n",
    "  fig.subplots_adjust(wspace=0.0) # 左右のグラフの間隔をゼロに設定 \n",
    "  \n",
    "  plt.show()\n"
   ]
  },
  {
   "cell_type": "code",
   "execution_count": 18,
   "metadata": {},
   "outputs": [
    {
     "data": {
      "application/vnd.microsoft.datawrangler.viewer.v0+json": {
       "columns": [
        {
         "name": "index",
         "rawType": "object",
         "type": "string"
        },
        {
         "name": "E_H",
         "rawType": "float64",
         "type": "float"
        },
        {
         "name": "E_C",
         "rawType": "float64",
         "type": "float"
        },
        {
         "name": "E_V",
         "rawType": "float64",
         "type": "float"
        },
        {
         "name": "E_L",
         "rawType": "float64",
         "type": "float"
        },
        {
         "name": "E_W",
         "rawType": "float64",
         "type": "float"
        },
        {
         "name": "E_S",
         "rawType": "float64",
         "type": "float"
        },
        {
         "name": "E_S_CG",
         "rawType": "float64",
         "type": "float"
        },
        {
         "name": "E_R",
         "rawType": "float64",
         "type": "float"
        },
        {
         "name": "E_M",
         "rawType": "float64",
         "type": "float"
        }
       ],
       "conversionMethod": "pd.DataFrame",
       "ref": "970ebbab-4b5e-4c9d-9723-0257f3e9faca",
       "rows": [
        [
         "testcase1",
         "13935.00484492587",
         "6035.98637903425",
         "5938.505695424001",
         "5211.890116722587",
         "27637.31547105188",
         "0.0",
         "0.0",
         "0.0",
         "21240.608512"
        ],
        [
         "testcase2",
         "0.0",
         "13377.18784714648",
         "5938.505695424001",
         "5211.890116722587",
         "19730.539537490677",
         "0.0",
         "0.0",
         "0.0",
         "21240.608512"
        ],
        [
         "testcase3",
         "36558.649546681496",
         "14773.136498249625",
         "5938.505695424001",
         "5211.890116722587",
         "27637.31547105188",
         "0.0",
         "0.0",
         "0.0",
         "21240.608512"
        ],
        [
         "testcase4",
         "11543.017674938972",
         "5300.635814498925",
         "5938.505695424001",
         "5211.890116722587",
         "27637.31547105188",
         "0.0",
         "0.0",
         "0.0",
         "21240.608512"
        ],
        [
         "testcase5",
         "13878.503253254547",
         "5336.061933611472",
         "4451.4078512000015",
         "3525.6164580858913",
         "24536.403413357082",
         "0.0",
         "0.0",
         "0.0",
         "19811.3552"
        ],
        [
         "testcase6",
         "12078.298265887268",
         "6035.98637903425",
         "4084.0422320000007",
         "5211.890116722587",
         "27637.31547105188",
         "0.0",
         "0.0",
         "0.0",
         "21240.608512"
        ],
        [
         "testcase7",
         "1.1540542166953869",
         "6035.98637903425",
         "5938.505695424001",
         "5211.890116722587",
         "46891.40011988282",
         "0.0",
         "0.0",
         "0.0",
         "21240.608512"
        ],
        [
         "testcase8",
         "13935.00484492587",
         "6035.98637903425",
         "5938.505695424001",
         "5211.890116722587",
         "22743.624279501695",
         "0.0",
         "0.0",
         "0.0",
         "21240.608512"
        ],
        [
         "testcase9",
         "13969.494179380305",
         "6035.98637903425",
         "5938.505695424001",
         "5211.890116722587",
         "27637.31547105188",
         "0.0",
         "0.0",
         "0.0",
         "21240.608512"
        ],
        [
         "testcase10",
         "3042.364958675187",
         "6035.98637903425",
         "5938.505695424001",
         "5211.890116722587",
         "66610.02598944267",
         "30901.359465565078",
         "30901.359465565078",
         "0.0",
         "21240.608512"
        ],
        [
         "testcase11",
         "3042.364958675187",
         "6035.98637903425",
         "5938.505695424001",
         "5211.890116722587",
         "56202.43934146989",
         "24621.39738294063",
         "24621.39738294063",
         "0.0",
         "21240.608512"
        ],
        [
         "testcase12",
         "1.1540542166953869",
         "6035.98637903425",
         "5938.505695424001",
         "5211.890116722587",
         "83419.48989353937",
         "29458.582082858993",
         "29458.582082858993",
         "0.0",
         "21240.608512"
        ],
        [
         "testcase13",
         "36558.649546681496",
         "14773.136498249625",
         "5938.505695424001",
         "5211.890116722587",
         "50976.99914621522",
         "42332.92760393559",
         "42332.92760393559",
         "0.0",
         "21240.608512"
        ]
       ],
       "shape": {
        "columns": 9,
        "rows": 13
       }
      },
      "text/html": [
       "<div>\n",
       "<style scoped>\n",
       "    .dataframe tbody tr th:only-of-type {\n",
       "        vertical-align: middle;\n",
       "    }\n",
       "\n",
       "    .dataframe tbody tr th {\n",
       "        vertical-align: top;\n",
       "    }\n",
       "\n",
       "    .dataframe thead th {\n",
       "        text-align: right;\n",
       "    }\n",
       "</style>\n",
       "<table border=\"1\" class=\"dataframe\">\n",
       "  <thead>\n",
       "    <tr style=\"text-align: right;\">\n",
       "      <th></th>\n",
       "      <th>E_H</th>\n",
       "      <th>E_C</th>\n",
       "      <th>E_V</th>\n",
       "      <th>E_L</th>\n",
       "      <th>E_W</th>\n",
       "      <th>E_S</th>\n",
       "      <th>E_S_CG</th>\n",
       "      <th>E_R</th>\n",
       "      <th>E_M</th>\n",
       "    </tr>\n",
       "  </thead>\n",
       "  <tbody>\n",
       "    <tr>\n",
       "      <th>testcase1</th>\n",
       "      <td>13935.004845</td>\n",
       "      <td>6035.986379</td>\n",
       "      <td>5938.505695</td>\n",
       "      <td>5211.890117</td>\n",
       "      <td>27637.315471</td>\n",
       "      <td>0.000000</td>\n",
       "      <td>0.000000</td>\n",
       "      <td>0.0</td>\n",
       "      <td>21240.608512</td>\n",
       "    </tr>\n",
       "    <tr>\n",
       "      <th>testcase2</th>\n",
       "      <td>0.000000</td>\n",
       "      <td>13377.187847</td>\n",
       "      <td>5938.505695</td>\n",
       "      <td>5211.890117</td>\n",
       "      <td>19730.539537</td>\n",
       "      <td>0.000000</td>\n",
       "      <td>0.000000</td>\n",
       "      <td>0.0</td>\n",
       "      <td>21240.608512</td>\n",
       "    </tr>\n",
       "    <tr>\n",
       "      <th>testcase3</th>\n",
       "      <td>36558.649547</td>\n",
       "      <td>14773.136498</td>\n",
       "      <td>5938.505695</td>\n",
       "      <td>5211.890117</td>\n",
       "      <td>27637.315471</td>\n",
       "      <td>0.000000</td>\n",
       "      <td>0.000000</td>\n",
       "      <td>0.0</td>\n",
       "      <td>21240.608512</td>\n",
       "    </tr>\n",
       "    <tr>\n",
       "      <th>testcase4</th>\n",
       "      <td>11543.017675</td>\n",
       "      <td>5300.635814</td>\n",
       "      <td>5938.505695</td>\n",
       "      <td>5211.890117</td>\n",
       "      <td>27637.315471</td>\n",
       "      <td>0.000000</td>\n",
       "      <td>0.000000</td>\n",
       "      <td>0.0</td>\n",
       "      <td>21240.608512</td>\n",
       "    </tr>\n",
       "    <tr>\n",
       "      <th>testcase5</th>\n",
       "      <td>13878.503253</td>\n",
       "      <td>5336.061934</td>\n",
       "      <td>4451.407851</td>\n",
       "      <td>3525.616458</td>\n",
       "      <td>24536.403413</td>\n",
       "      <td>0.000000</td>\n",
       "      <td>0.000000</td>\n",
       "      <td>0.0</td>\n",
       "      <td>19811.355200</td>\n",
       "    </tr>\n",
       "    <tr>\n",
       "      <th>testcase6</th>\n",
       "      <td>12078.298266</td>\n",
       "      <td>6035.986379</td>\n",
       "      <td>4084.042232</td>\n",
       "      <td>5211.890117</td>\n",
       "      <td>27637.315471</td>\n",
       "      <td>0.000000</td>\n",
       "      <td>0.000000</td>\n",
       "      <td>0.0</td>\n",
       "      <td>21240.608512</td>\n",
       "    </tr>\n",
       "    <tr>\n",
       "      <th>testcase7</th>\n",
       "      <td>1.154054</td>\n",
       "      <td>6035.986379</td>\n",
       "      <td>5938.505695</td>\n",
       "      <td>5211.890117</td>\n",
       "      <td>46891.400120</td>\n",
       "      <td>0.000000</td>\n",
       "      <td>0.000000</td>\n",
       "      <td>0.0</td>\n",
       "      <td>21240.608512</td>\n",
       "    </tr>\n",
       "    <tr>\n",
       "      <th>testcase8</th>\n",
       "      <td>13935.004845</td>\n",
       "      <td>6035.986379</td>\n",
       "      <td>5938.505695</td>\n",
       "      <td>5211.890117</td>\n",
       "      <td>22743.624280</td>\n",
       "      <td>0.000000</td>\n",
       "      <td>0.000000</td>\n",
       "      <td>0.0</td>\n",
       "      <td>21240.608512</td>\n",
       "    </tr>\n",
       "    <tr>\n",
       "      <th>testcase9</th>\n",
       "      <td>13969.494179</td>\n",
       "      <td>6035.986379</td>\n",
       "      <td>5938.505695</td>\n",
       "      <td>5211.890117</td>\n",
       "      <td>27637.315471</td>\n",
       "      <td>0.000000</td>\n",
       "      <td>0.000000</td>\n",
       "      <td>0.0</td>\n",
       "      <td>21240.608512</td>\n",
       "    </tr>\n",
       "    <tr>\n",
       "      <th>testcase10</th>\n",
       "      <td>3042.364959</td>\n",
       "      <td>6035.986379</td>\n",
       "      <td>5938.505695</td>\n",
       "      <td>5211.890117</td>\n",
       "      <td>66610.025989</td>\n",
       "      <td>30901.359466</td>\n",
       "      <td>30901.359466</td>\n",
       "      <td>0.0</td>\n",
       "      <td>21240.608512</td>\n",
       "    </tr>\n",
       "    <tr>\n",
       "      <th>testcase11</th>\n",
       "      <td>3042.364959</td>\n",
       "      <td>6035.986379</td>\n",
       "      <td>5938.505695</td>\n",
       "      <td>5211.890117</td>\n",
       "      <td>56202.439341</td>\n",
       "      <td>24621.397383</td>\n",
       "      <td>24621.397383</td>\n",
       "      <td>0.0</td>\n",
       "      <td>21240.608512</td>\n",
       "    </tr>\n",
       "    <tr>\n",
       "      <th>testcase12</th>\n",
       "      <td>1.154054</td>\n",
       "      <td>6035.986379</td>\n",
       "      <td>5938.505695</td>\n",
       "      <td>5211.890117</td>\n",
       "      <td>83419.489894</td>\n",
       "      <td>29458.582083</td>\n",
       "      <td>29458.582083</td>\n",
       "      <td>0.0</td>\n",
       "      <td>21240.608512</td>\n",
       "    </tr>\n",
       "    <tr>\n",
       "      <th>testcase13</th>\n",
       "      <td>36558.649547</td>\n",
       "      <td>14773.136498</td>\n",
       "      <td>5938.505695</td>\n",
       "      <td>5211.890117</td>\n",
       "      <td>50976.999146</td>\n",
       "      <td>42332.927604</td>\n",
       "      <td>42332.927604</td>\n",
       "      <td>0.0</td>\n",
       "      <td>21240.608512</td>\n",
       "    </tr>\n",
       "  </tbody>\n",
       "</table>\n",
       "</div>"
      ],
      "text/plain": [
       "                     E_H           E_C          E_V          E_L  \\\n",
       "testcase1   13935.004845   6035.986379  5938.505695  5211.890117   \n",
       "testcase2       0.000000  13377.187847  5938.505695  5211.890117   \n",
       "testcase3   36558.649547  14773.136498  5938.505695  5211.890117   \n",
       "testcase4   11543.017675   5300.635814  5938.505695  5211.890117   \n",
       "testcase5   13878.503253   5336.061934  4451.407851  3525.616458   \n",
       "testcase6   12078.298266   6035.986379  4084.042232  5211.890117   \n",
       "testcase7       1.154054   6035.986379  5938.505695  5211.890117   \n",
       "testcase8   13935.004845   6035.986379  5938.505695  5211.890117   \n",
       "testcase9   13969.494179   6035.986379  5938.505695  5211.890117   \n",
       "testcase10   3042.364959   6035.986379  5938.505695  5211.890117   \n",
       "testcase11   3042.364959   6035.986379  5938.505695  5211.890117   \n",
       "testcase12      1.154054   6035.986379  5938.505695  5211.890117   \n",
       "testcase13  36558.649547  14773.136498  5938.505695  5211.890117   \n",
       "\n",
       "                     E_W           E_S        E_S_CG  E_R           E_M  \n",
       "testcase1   27637.315471      0.000000      0.000000  0.0  21240.608512  \n",
       "testcase2   19730.539537      0.000000      0.000000  0.0  21240.608512  \n",
       "testcase3   27637.315471      0.000000      0.000000  0.0  21240.608512  \n",
       "testcase4   27637.315471      0.000000      0.000000  0.0  21240.608512  \n",
       "testcase5   24536.403413      0.000000      0.000000  0.0  19811.355200  \n",
       "testcase6   27637.315471      0.000000      0.000000  0.0  21240.608512  \n",
       "testcase7   46891.400120      0.000000      0.000000  0.0  21240.608512  \n",
       "testcase8   22743.624280      0.000000      0.000000  0.0  21240.608512  \n",
       "testcase9   27637.315471      0.000000      0.000000  0.0  21240.608512  \n",
       "testcase10  66610.025989  30901.359466  30901.359466  0.0  21240.608512  \n",
       "testcase11  56202.439341  24621.397383  24621.397383  0.0  21240.608512  \n",
       "testcase12  83419.489894  29458.582083  29458.582083  0.0  21240.608512  \n",
       "testcase13  50976.999146  42332.927604  42332.927604  0.0  21240.608512  "
      ]
     },
     "execution_count": 18,
     "metadata": {},
     "output_type": "execute_result"
    }
   ],
   "source": [
    "import pandas as pd\n",
    "DBdict = {'testcase1': res_01, 'testcase2': res_02, 'testcase3': res_03, 'testcase4': res_04, 'testcase5': res_05, 'testcase6': res_06,\n",
    "          'testcase7': res_07, 'testcase8': res_08, 'testcase9': res_09, 'testcase10': res_10, 'testcase11': res_11, 'testcase12': res_12,\n",
    "          'testcase13': res_13}\n",
    "DB_ene = pd.DataFrame(DBdict).T\n",
    "DB_ene"
   ]
  },
  {
   "cell_type": "code",
   "execution_count": 19,
   "metadata": {},
   "outputs": [
    {
     "data": {
      "image/png": "[encoded data removed]",
      "text/plain": [
       "<Figure size 3000x750 with 2 Axes>"
      ]
     },
     "metadata": {},
     "output_type": "display_data"
    }
   ],
   "source": [
    "myColors = [['plum'],['lightcoral', 'lightblue', 'seagreen', 'royalblue', 'lightgray', 'lightgreen']]\n",
    "myColumns = [['E_S'],[\"E_H\", \"E_C\", \"E_V\", \"E_W\", \"E_L\", \"E_M\"]]\n",
    "\n",
    "draw_graph(DB_ene, myColumns, myColors ,[140,140])"
   ]
  }
 ],
 "metadata": {
  "kernelspec": {
   "display_name": "Python 3",
   "language": "python",
   "name": "python3"
  },
  "language_info": {
   "codemirror_mode": {
    "name": "ipython",
    "version": 3
   },
   "file_extension": ".py",
   "mimetype": "text/x-python",
   "name": "python",
   "nbconvert_exporter": "python",
   "pygments_lexer": "ipython3",
   "version": "3.12.9"
  },
  "vscode": {
   "interpreter": {
    "hash": "4e35274c5653ae9bfe9e76096acd78d8c73cdd33c21be73f3046ee9fdd8ac787"
   }
  }
 },
 "nbformat": 4,
 "nbformat_minor": 2
}
